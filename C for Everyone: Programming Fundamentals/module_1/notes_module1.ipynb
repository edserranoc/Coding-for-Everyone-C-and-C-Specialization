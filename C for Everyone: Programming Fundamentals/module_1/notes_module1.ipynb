{
 "cells": [
  {
   "cell_type": "markdown",
   "id": "dc2701b0",
   "metadata": {},
   "source": [
    "<hr>\n",
    "<div style=\"background-color: lightgray; padding: 20px; color: black;\">\n",
    "<div>\n",
    "<img src=\"https://th.bing.com/th/id/R.3cd1c8dc996c5616cf6e65e20b6bf586?rik=09aaLyk4hfbBiQ&riu=http%3a%2f%2fcidics.uanl.mx%2fwp-content%2fuploads%2f2016%2f09%2fcimat.png&ehk=%2b0brgMUkA2BND22ixwLZheQrrOoYLO3o5cMRqsBOrlY%3d&risl=&pid=ImgRaw&r=0\" style=\"float: right; margin-right: 30px;\" width=\"200\"/> \n",
    "<font size=\"5.5\" color=\"8C3061\"><b>Introduction</b></font> <br>\n",
    "<font size=\"5.5\" color=\"8C3061\"><b>C for Everyone: Programming Fundamentals</b></font> \n",
    "</div>\n",
    "<div style=\"text-align: left\">  <br>\n",
    "Edison David Serrano Cárdenas<br>\n",
    "MSc en Matemáticas Aplicadas; CIMAT - Sede Guanajuato <br>\n",
    "</div>\n",
    "\n",
    "</div>\n",
    "<hr>"
   ]
  },
  {
   "cell_type": "markdown",
   "id": "37b128ae",
   "metadata": {},
   "source": [
    "# <font color=\"8C3061\" >**Introduction**</font> "
   ]
  },
  {
   "cell_type": "markdown",
   "id": "d184a3a9",
   "metadata": {},
   "source": [
    ">  You'll appreciate learning C. C it's a tried-and-true language used throughout industry. It's what's called a systems implementation language. You're going to learn low-level details. "
   ]
  },
  {
   "cell_type": "markdown",
   "id": "a150ef5c",
   "metadata": {},
   "source": [
    "<font color=\"8C3061\" >**History**</font> "
   ]
  },
  {
   "cell_type": "markdown",
   "id": "d01ec396",
   "metadata": {},
   "source": [
    "> Language was invented by Dennis Ritchie. Dennis Ritchie invented it 1972. Its purpose was to write an operating system. The operating system became so famous that we're still using it, it's called Unix, and while it was research which he conducted with Ken Thompson, because it was done at Bell Labs at that time, it was released as a free product. "
   ]
  },
  {
   "cell_type": "markdown",
   "id": "9814b28e",
   "metadata": {},
   "source": [
    "# <font color=\"8C3061\" >**Compiling, debugging, and running a program**</font> "
   ]
  },
  {
   "cell_type": "markdown",
   "id": "61dfe7c1",
   "metadata": {},
   "source": [
    "**Compiler:** gcc gnu,VisualStudio <br>\n",
    "**Editor:** VScode, vim, notepad\n",
    "\n",
    "**Write Code:** paper\n",
    "\n",
    "**Compile:**\n",
    "- Syntax errors\n",
    "- Future compile\n",
    "  - run\n",
    "  - wrong answers\n",
    "- fix & recompile:\n",
    "  - correct: get an a.out\n",
    "\n",
    "```bash\n",
    "gcc -o sample.exe sample.c\n",
    "```"
   ]
  },
  {
   "cell_type": "markdown",
   "id": "3a2231c0",
   "metadata": {},
   "source": [
    "# <font color=\"8C3061\" >**Simple Input/Output**</font> "
   ]
  }
 ],
 "metadata": {
  "language_info": {
   "name": "python"
  }
 },
 "nbformat": 4,
 "nbformat_minor": 5
}
