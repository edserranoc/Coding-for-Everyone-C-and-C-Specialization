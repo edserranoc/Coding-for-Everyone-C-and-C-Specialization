{
 "cells": [
  {
   "cell_type": "markdown",
   "id": "dc2701b0",
   "metadata": {},
   "source": [
    "<hr>\n",
    "<div style=\"background-color: lightgray; padding: 20px; color: black;\">\n",
    "<div>\n",
    "<img src=\"https://th.bing.com/th/id/R.3cd1c8dc996c5616cf6e65e20b6bf586?rik=09aaLyk4hfbBiQ&riu=http%3a%2f%2fcidics.uanl.mx%2fwp-content%2fuploads%2f2016%2f09%2fcimat.png&ehk=%2b0brgMUkA2BND22ixwLZheQrrOoYLO3o5cMRqsBOrlY%3d&risl=&pid=ImgRaw&r=0\" style=\"float: right; margin-right: 30px;\" width=\"200\"/> \n",
    "<font size=\"5.5\" color=\"8C3061\"><b>Introduction</b></font> <br>\n",
    "<font size=\"5.5\" color=\"8C3061\"><b>C for Everyone: Programming Fundamentals</b></font> \n",
    "</div>\n",
    "<div style=\"text-align: left\">  <br>\n",
    "Edison David Serrano Cárdenas<br>\n",
    "MSc en Matemáticas Aplicadas; CIMAT - Sede Guanajuato <br>\n",
    "</div>\n",
    "\n",
    "</div>\n",
    "<hr>"
   ]
  },
  {
   "cell_type": "markdown",
   "id": "37b128ae",
   "metadata": {},
   "source": [
    "# <font color=\"8C3061\" >**Introduction**</font> "
   ]
  },
  {
   "cell_type": "markdown",
   "id": "d184a3a9",
   "metadata": {},
   "source": [
    ">  You'll appreciate learning C. C it's a tried-and-true language used throughout industry. It's what's called a systems implementation language. You're going to learn low-level details. "
   ]
  },
  {
   "cell_type": "markdown",
   "id": "a150ef5c",
   "metadata": {},
   "source": [
    "<font color=\"8C3061\" >**History**</font> "
   ]
  },
  {
   "cell_type": "markdown",
   "id": "d01ec396",
   "metadata": {},
   "source": [
    "> Language was invented by Dennis Ritchie. Dennis Ritchie invented it 1972. Its purpose was to write an operating system. The operating system became so famous that we're still using it, it's called Unix, and while it was research which he conducted with Ken Thompson, because it was done at Bell Labs at that time, it was released as a free product. "
   ]
  },
  {
   "cell_type": "markdown",
   "id": "9814b28e",
   "metadata": {},
   "source": [
    "# <font color=\"8C3061\" >**Compiling, debugging, and running a program**</font> "
   ]
  },
  {
   "cell_type": "markdown",
   "id": "61dfe7c1",
   "metadata": {},
   "source": [
    "**Compiler:** gcc gnu,VisualStudio <br>\n",
    "**Editor:** VScode, vim, notepad\n",
    "\n",
    "**Write Code:** paper\n",
    "\n",
    "**Compile:**\n",
    "- Syntax errors\n",
    "- Future compile\n",
    "  - run\n",
    "  - wrong answers\n",
    "- fix & recompile:\n",
    "  - correct: get an a.out\n",
    "\n",
    "```bash\n",
    "gcc -o sample.exe sample.c\n",
    "```"
   ]
  },
  {
   "cell_type": "markdown",
   "id": "add78ad0",
   "metadata": {},
   "source": [
    "**comments:**\n",
    "```c\n",
    "/* large comment */\n",
    "// line comment\n",
    "```\n",
    "**idenfiers:** a,b,main<br>\n",
    "**operators:** +,& <br>\n",
    "**punctuations:** { , } <br>\n",
    "**keywords:** auto, break, case, char, const, continue, default, do, double, else, enum, extern, float, for, goto, if, int, long, register, return, short, signed, sizeof, static, struct, switch, typedef, union, unsigned, void, volatile, while"
   ]
  },
  {
   "cell_type": "markdown",
   "id": "9a41cbc3",
   "metadata": {},
   "source": [
    "# <font color=\"8C3061\" >**Array as a Parameter**</font> "
   ]
  },
  {
   "cell_type": "markdown",
   "id": "777652fa",
   "metadata": {},
   "source": [
    "```c++\n",
    "#include <stdio.h>\n",
    "\n",
    "double average_grades(int how_many, int grades[]){\n",
    "    int i;\n",
    "    double sum = 0.0;\n",
    "    for (i=0; i < how_many; i++)\n",
    "        sum += grades[i];\n",
    "    return(sum/how_many) ;\n",
    "}\n",
    "\n",
    "void print_grades(int how_many, int grades[]){\n",
    "    int i;\n",
    "    printf(\"I have %d grades\\n\", how_many);\n",
    "\n",
    "    for (i = 0; i < how_many; i++)\n",
    "        printf(\"%d\\t\", grades[i]);\n",
    "}\n",
    "\n",
    "int main(void){\n",
    "    const int SIZE = 5;\n",
    "    int grades[SIZE]= {78, 67, 92, 83, 88};\n",
    "\n",
    "    print_grades(SIZE, grades);\n",
    "    printf(\"\\n\\n\");\n",
    "    printf(\"my average is %.2f\\n\\n\", average_grades(SIZE, grades) );\n",
    "    return 0;\n",
    "}\n",
    "```\n"
   ]
  },
  {
   "cell_type": "markdown",
   "id": "63245704",
   "metadata": {},
   "source": [
    "# <font color=\"8C3061\" >**Advanced Data Types: Pointers in C**</font> "
   ]
  },
  {
   "cell_type": "markdown",
   "id": "5e81c74e",
   "metadata": {},
   "source": [
    "You say what the basic type is, in this case it's an integer, then you use the special star character, the asterisk, and then the variable name. \n",
    "\n",
    "So frequently we'll use **P for pointer**, PTR, and here we're declaring a variable that can point at something that can store integers but isn't backed an address. \n",
    "\n",
    "So let's say a was an integer variable, a pure integer variable."
   ]
  },
  {
   "cell_type": "markdown",
   "id": "f08f7c59",
   "metadata": {},
   "source": [
    "Initialize this pointer to where a is stored, the address in memory where a is stored.\n",
    "\n",
    "```c++\n",
    "int a; //It have a memory and a location.\n",
    "int *p = &a; //\n",
    "```"
   ]
  },
  {
   "cell_type": "markdown",
   "id": "3763d217",
   "metadata": {},
   "source": [
    "<font color=\"8C3061\" >**Call-by-reference simulated**</font> "
   ]
  },
  {
   "cell_type": "markdown",
   "id": "7cdd7409",
   "metadata": {},
   "source": [
    "If you recall call-by-value is where arguments are passed in possibly variables from the calling environment.\n",
    "\n",
    "- We're going to have to be able to de-reference addresses, that means an address variable when preface by a-star accesses the contents at that address. \n",
    "\n",
    "- To get out of variable, to know its address we use the ampersand operator. "
   ]
  },
  {
   "cell_type": "markdown",
   "id": "bd2725ac",
   "metadata": {},
   "source": [
    "*Normally parameters are called by value, but we can pass in an address*. An address not necessarily to a pointer but an address, and it should really be or a pointer.\n",
    "\n",
    "Then, we use this mechanism to achieve call-by-reference.\n",
    "\n",
    "So let's look at something that would be a function we try to create. We're going to call it a swap function. It has a very simple job. Swap a and b is supposed to exchange values."
   ]
  },
  {
   "cell_type": "markdown",
   "id": "2da24ba9",
   "metadata": {},
   "source": [
    "`First Program:` Swap. It won't work.\n",
    "\n",
    "```c++\n",
    "void swap(int i, int j){\n",
    "    int temp = i;\n",
    "    i=j; \n",
    "    j=temp;\n",
    "}\n",
    "```\n",
    "\n",
    "`Second Program:` Swap. It will work.\n",
    "\n",
    "```c++\n",
    "void swap(int* i, int* j){\n",
    "    int temp = *i;      //Temp gets the dereference value of i\n",
    "    *i=*j; \n",
    "    *j=temp;\n",
    "}"
   ]
  },
  {
   "cell_type": "markdown",
   "id": "e1b4bbf6",
   "metadata": {},
   "source": []
  }
 ],
 "metadata": {
  "language_info": {
   "name": "python"
  }
 },
 "nbformat": 4,
 "nbformat_minor": 5
}
